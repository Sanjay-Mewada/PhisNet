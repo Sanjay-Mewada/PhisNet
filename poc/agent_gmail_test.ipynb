{
 "cells": [
  {
   "cell_type": "code",
   "execution_count": null,
   "id": "0dcb628a",
   "metadata": {},
   "outputs": [
    {
     "name": "stdout",
     "output_type": "stream",
     "text": [
      "Collecting agno\n",
      "  Downloading agno-1.3.1-py3-none-any.whl.metadata (45 kB)\n",
      "Collecting docstring-parser (from agno)\n",
      "  Downloading docstring_parser-0.16-py3-none-any.whl.metadata (3.0 kB)\n",
      "Collecting gitpython (from agno)\n",
      "  Downloading GitPython-3.1.44-py3-none-any.whl.metadata (13 kB)\n",
      "Requirement already satisfied: httpx in c:\\users\\sanja\\downloads\\phishnet-main\\.venv\\lib\\site-packages (from agno) (0.28.1)\n",
      "Collecting pydantic-settings (from agno)\n",
      "  Downloading pydantic_settings-2.8.1-py3-none-any.whl.metadata (3.5 kB)\n",
      "Requirement already satisfied: pydantic in c:\\users\\sanja\\downloads\\phishnet-main\\.venv\\lib\\site-packages (from agno) (2.11.2)\n",
      "Requirement already satisfied: python-dotenv in c:\\users\\sanja\\downloads\\phishnet-main\\.venv\\lib\\site-packages (from agno) (1.1.0)\n",
      "Collecting python-multipart (from agno)\n",
      "  Downloading python_multipart-0.0.20-py3-none-any.whl.metadata (1.8 kB)\n",
      "Requirement already satisfied: pyyaml in c:\\users\\sanja\\downloads\\phishnet-main\\.venv\\lib\\site-packages (from agno) (6.0.2)\n",
      "Collecting rich (from agno)\n",
      "  Downloading rich-14.0.0-py3-none-any.whl.metadata (18 kB)\n",
      "Collecting tomli (from agno)\n",
      "  Downloading tomli-2.2.1-cp312-cp312-win_amd64.whl.metadata (12 kB)\n",
      "Collecting typer (from agno)\n",
      "  Downloading typer-0.15.2-py3-none-any.whl.metadata (15 kB)\n",
      "Requirement already satisfied: typing-extensions in c:\\users\\sanja\\downloads\\phishnet-main\\.venv\\lib\\site-packages (from agno) (4.13.1)\n",
      "Collecting gitdb<5,>=4.0.1 (from gitpython->agno)\n",
      "  Downloading gitdb-4.0.12-py3-none-any.whl.metadata (1.2 kB)\n",
      "Requirement already satisfied: anyio in c:\\users\\sanja\\downloads\\phishnet-main\\.venv\\lib\\site-packages (from httpx->agno) (4.9.0)\n",
      "Requirement already satisfied: certifi in c:\\users\\sanja\\downloads\\phishnet-main\\.venv\\lib\\site-packages (from httpx->agno) (2025.1.31)\n",
      "Requirement already satisfied: httpcore==1.* in c:\\users\\sanja\\downloads\\phishnet-main\\.venv\\lib\\site-packages (from httpx->agno) (1.0.7)\n",
      "Requirement already satisfied: idna in c:\\users\\sanja\\downloads\\phishnet-main\\.venv\\lib\\site-packages (from httpx->agno) (3.10)\n",
      "Requirement already satisfied: h11<0.15,>=0.13 in c:\\users\\sanja\\downloads\\phishnet-main\\.venv\\lib\\site-packages (from httpcore==1.*->httpx->agno) (0.14.0)\n",
      "Requirement already satisfied: annotated-types>=0.6.0 in c:\\users\\sanja\\downloads\\phishnet-main\\.venv\\lib\\site-packages (from pydantic->agno) (0.7.0)\n",
      "Requirement already satisfied: pydantic-core==2.33.1 in c:\\users\\sanja\\downloads\\phishnet-main\\.venv\\lib\\site-packages (from pydantic->agno) (2.33.1)\n",
      "Requirement already satisfied: typing-inspection>=0.4.0 in c:\\users\\sanja\\downloads\\phishnet-main\\.venv\\lib\\site-packages (from pydantic->agno) (0.4.0)\n",
      "Collecting markdown-it-py>=2.2.0 (from rich->agno)\n",
      "  Downloading markdown_it_py-3.0.0-py3-none-any.whl.metadata (6.9 kB)\n",
      "Requirement already satisfied: pygments<3.0.0,>=2.13.0 in c:\\users\\sanja\\downloads\\phishnet-main\\.venv\\lib\\site-packages (from rich->agno) (2.19.1)\n",
      "Requirement already satisfied: click>=8.0.0 in c:\\users\\sanja\\downloads\\phishnet-main\\.venv\\lib\\site-packages (from typer->agno) (8.1.8)\n",
      "Collecting shellingham>=1.3.0 (from typer->agno)\n",
      "  Downloading shellingham-1.5.4-py2.py3-none-any.whl.metadata (3.5 kB)\n",
      "Requirement already satisfied: colorama in c:\\users\\sanja\\downloads\\phishnet-main\\.venv\\lib\\site-packages (from click>=8.0.0->typer->agno) (0.4.6)\n",
      "Collecting smmap<6,>=3.0.1 (from gitdb<5,>=4.0.1->gitpython->agno)\n",
      "  Downloading smmap-5.0.2-py3-none-any.whl.metadata (4.3 kB)\n",
      "Collecting mdurl~=0.1 (from markdown-it-py>=2.2.0->rich->agno)\n",
      "  Downloading mdurl-0.1.2-py3-none-any.whl.metadata (1.6 kB)\n",
      "Requirement already satisfied: sniffio>=1.1 in c:\\users\\sanja\\downloads\\phishnet-main\\.venv\\lib\\site-packages (from anyio->httpx->agno) (1.3.1)\n",
      "Downloading agno-1.3.1-py3-none-any.whl (651 kB)\n",
      "   ---------------------------------------- 0.0/651.3 kB ? eta -:--:--\n",
      "   ---------------------------------------- 651.3/651.3 kB 3.1 MB/s eta 0:00:00\n",
      "Downloading docstring_parser-0.16-py3-none-any.whl (36 kB)\n",
      "Downloading GitPython-3.1.44-py3-none-any.whl (207 kB)\n",
      "Downloading pydantic_settings-2.8.1-py3-none-any.whl (30 kB)\n",
      "Downloading python_multipart-0.0.20-py3-none-any.whl (24 kB)\n",
      "Downloading rich-14.0.0-py3-none-any.whl (243 kB)\n",
      "Downloading tomli-2.2.1-cp312-cp312-win_amd64.whl (109 kB)\n",
      "Downloading typer-0.15.2-py3-none-any.whl (45 kB)\n",
      "Downloading gitdb-4.0.12-py3-none-any.whl (62 kB)\n",
      "Downloading markdown_it_py-3.0.0-py3-none-any.whl (87 kB)\n",
      "Downloading shellingham-1.5.4-py2.py3-none-any.whl (9.8 kB)\n",
      "Downloading mdurl-0.1.2-py3-none-any.whl (10.0 kB)\n",
      "Downloading smmap-5.0.2-py3-none-any.whl (24 kB)\n",
      "Installing collected packages: tomli, smmap, shellingham, python-multipart, mdurl, docstring-parser, markdown-it-py, gitdb, rich, pydantic-settings, gitpython, typer, agno\n",
      "Successfully installed agno-1.3.1 docstring-parser-0.16 gitdb-4.0.12 gitpython-3.1.44 markdown-it-py-3.0.0 mdurl-0.1.2 pydantic-settings-2.8.1 python-multipart-0.0.20 rich-14.0.0 shellingham-1.5.4 smmap-5.0.2 tomli-2.2.1 typer-0.15.2\n",
      "Note: you may need to restart the kernel to use updated packages.\n"
     ]
    },
    {
     "ename": "",
     "evalue": "",
     "output_type": "error",
     "traceback": [
      "\u001b[1;31mThe Kernel crashed while executing code in the current cell or a previous cell. \n",
      "\u001b[1;31mPlease review the code in the cell(s) to identify a possible cause of the failure. \n",
      "\u001b[1;31mClick <a href='https://aka.ms/vscodeJupyterKernelCrash'>here</a> for more info. \n",
      "\u001b[1;31mView Jupyter <a href='command:jupyter.viewOutput'>log</a> for further details."
     ]
    }
   ],
   "source": [
    "%pip install agno\n",
    "\n"
   ]
  },
  {
   "cell_type": "code",
   "execution_count": null,
   "id": "31464ffc",
   "metadata": {},
   "outputs": [
    {
     "ename": "ImportError",
     "evalue": "cannot import name 'Cohere' from 'agno.models.google' (c:\\Users\\sanja\\Downloads\\PhishNet-main\\.venv\\Lib\\site-packages\\agno\\models\\google\\__init__.py)",
     "output_type": "error",
     "traceback": [
      "\u001b[31m---------------------------------------------------------------------------\u001b[39m",
      "\u001b[31mImportError\u001b[39m                               Traceback (most recent call last)",
      "\u001b[36mCell\u001b[39m\u001b[36m \u001b[39m\u001b[32mIn[2]\u001b[39m\u001b[32m, line 10\u001b[39m\n\u001b[32m      8\u001b[39m \u001b[38;5;28;01mfrom\u001b[39;00m\u001b[38;5;250m \u001b[39m\u001b[34;01mPIL\u001b[39;00m\u001b[38;5;250m \u001b[39m\u001b[38;5;28;01mimport\u001b[39;00m Image\n\u001b[32m      9\u001b[39m \u001b[38;5;28;01mfrom\u001b[39;00m\u001b[38;5;250m \u001b[39m\u001b[34;01magno\u001b[39;00m\u001b[34;01m.\u001b[39;00m\u001b[34;01magent\u001b[39;00m\u001b[38;5;250m \u001b[39m\u001b[38;5;28;01mimport\u001b[39;00m Agent\n\u001b[32m---> \u001b[39m\u001b[32m10\u001b[39m \u001b[38;5;28;01mfrom\u001b[39;00m\u001b[38;5;250m \u001b[39m\u001b[34;01magno\u001b[39;00m\u001b[34;01m.\u001b[39;00m\u001b[34;01mmodels\u001b[39;00m\u001b[34;01m.\u001b[39;00m\u001b[34;01mgoogle\u001b[39;00m\u001b[38;5;250m \u001b[39m\u001b[38;5;28;01mimport\u001b[39;00m Cohere\n\u001b[32m     11\u001b[39m \u001b[38;5;28;01mimport\u001b[39;00m\u001b[38;5;250m \u001b[39m\u001b[34;01mstreamlit\u001b[39;00m\u001b[38;5;250m \u001b[39m\u001b[38;5;28;01mas\u001b[39;00m\u001b[38;5;250m \u001b[39m\u001b[34;01mst\u001b[39;00m\n\u001b[32m     12\u001b[39m \u001b[38;5;28;01mfrom\u001b[39;00m\u001b[38;5;250m \u001b[39m\u001b[34;01magno\u001b[39;00m\u001b[34;01m.\u001b[39;00m\u001b[34;01mtools\u001b[39;00m\u001b[34;01m.\u001b[39;00m\u001b[34;01mduckduckgo\u001b[39;00m\u001b[38;5;250m \u001b[39m\u001b[38;5;28;01mimport\u001b[39;00m DuckDuckGoTools\n",
      "\u001b[31mImportError\u001b[39m: cannot import name 'Cohere' from 'agno.models.google' (c:\\Users\\sanja\\Downloads\\PhishNet-main\\.venv\\Lib\\site-packages\\agno\\models\\google\\__init__.py)"
     ]
    }
   ],
   "source": [
    "import os\n",
    "import shutil\n",
    "import tomli\n",
    "from langchain_community.embeddings.huggingface import HuggingFaceEmbeddings\n",
    "from langchain.text_splitter import RecursiveCharacterTextSplitter\n",
    "from langchain_community.vectorstores import Chroma\n",
    "from langchain_community.document_loaders import PyPDFLoader, TextLoader\n",
    "from PIL import Image\n",
    "from agno.agent import Agent\n",
    "from agno.models.google import Cohere\n",
    "import streamlit as st\n",
    "from agno.tools.duckduckgo import Gmail\n",
    "from chromadb import PersistentClient\n"
   ]
  },
  {
   "cell_type": "code",
   "execution_count": null,
   "id": "022cab4b",
   "metadata": {},
   "outputs": [],
   "source": []
  }
 ],
 "metadata": {
  "kernelspec": {
   "display_name": ".venv",
   "language": "python",
   "name": "python3"
  },
  "language_info": {
   "codemirror_mode": {
    "name": "ipython",
    "version": 3
   },
   "file_extension": ".py",
   "mimetype": "text/x-python",
   "name": "python",
   "nbconvert_exporter": "python",
   "pygments_lexer": "ipython3",
   "version": "3.12.0"
  }
 },
 "nbformat": 4,
 "nbformat_minor": 5
}
